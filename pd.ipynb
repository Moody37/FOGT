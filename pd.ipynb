{
 "cells": [
  {
   "cell_type": "code",
   "execution_count": 36,
   "metadata": {},
   "outputs": [],
   "source": [
    "import numpy as np\n",
    "import sympy as sp"
   ]
  },
  {
   "cell_type": "code",
   "execution_count": 37,
   "metadata": {},
   "outputs": [
    {
     "data": {
      "text/plain": [
       "(x, k, a, \\psi(x), n, m, hbar, t)"
      ]
     },
     "execution_count": 37,
     "metadata": {},
     "output_type": "execute_result"
    }
   ],
   "source": [
    "x = sp.Symbol('x', real = True)\n",
    "k = sp.Symbol('k', real = True, positive = True)\n",
    "a = sp.Symbol('a', real = True)\n",
    "n = sp.Symbol('n', integer = True, nonzero = True)\n",
    "m = sp.Symbol('m', real = True, positive = True)\n",
    "h = sp.Symbol('hbar', real = True, positive = True)\n",
    "t = sp.Symbol('t', real = True, positive = True)\n",
    "psi = sp.Function('\\psi')\n",
    "\n",
    "x, k, a, psi(x), n, m, h, t"
   ]
  },
  {
   "cell_type": "code",
   "execution_count": 38,
   "metadata": {},
   "outputs": [
    {
     "data": {
      "text/latex": [
       "$\\displaystyle \\frac{d^{2}}{d x^{2}} \\psi{\\left(x \\right)} = - k^{2} \\psi{\\left(x \\right)}$"
      ],
      "text/plain": [
       "Eq(Derivative(\\psi(x), (x, 2)), -k**2*\\psi(x))"
      ]
     },
     "execution_count": 38,
     "metadata": {},
     "output_type": "execute_result"
    }
   ],
   "source": [
    "eq = sp.Eq(psi(x).diff(x, x), -k**2 * psi(x))\n",
    "eq"
   ]
  },
  {
   "cell_type": "code",
   "execution_count": 39,
   "metadata": {},
   "outputs": [
    {
     "data": {
      "text/latex": [
       "$\\displaystyle \\psi{\\left(x \\right)} = \\sqrt{2} \\sqrt{\\frac{1}{a}} \\sin{\\left(\\frac{\\pi n x}{a} \\right)}$"
      ],
      "text/plain": [
       "Eq(\\psi(x), sqrt(2)*sqrt(1/a)*sin(pi*n*x/a))"
      ]
     },
     "execution_count": 39,
     "metadata": {},
     "output_type": "execute_result"
    }
   ],
   "source": [
    "sol = sol.subs(sp.Symbol('C1'), sp.sqrt(2 / a))\n",
    "sol"
   ]
  },
  {
   "cell_type": "code",
   "execution_count": 40,
   "metadata": {},
   "outputs": [
    {
     "data": {
      "text/latex": [
       "$\\displaystyle \\frac{a}{2}$"
      ],
      "text/plain": [
       "a/2"
      ]
     },
     "execution_count": 40,
     "metadata": {},
     "output_type": "execute_result"
    }
   ],
   "source": [
    "sp.integrate(sol.rhs * x * sol.rhs, (x, 0, a))"
   ]
  },
  {
   "cell_type": "code",
   "execution_count": 41,
   "metadata": {},
   "outputs": [
    {
     "data": {
      "text/latex": [
       "$\\displaystyle \\frac{a^{2}}{3} - \\frac{a^{2}}{2 \\pi^{2} n^{2}}$"
      ],
      "text/plain": [
       "a**2/3 - a**2/(2*pi**2*n**2)"
      ]
     },
     "execution_count": 41,
     "metadata": {},
     "output_type": "execute_result"
    }
   ],
   "source": [
    "sp.integrate(sol.rhs * x**2 * sol.rhs, (x, 0, a)).simplify()"
   ]
  },
  {
   "cell_type": "code",
   "execution_count": 42,
   "metadata": {},
   "outputs": [
    {
     "data": {
      "text/latex": [
       "$\\displaystyle 0$"
      ],
      "text/plain": [
       "0"
      ]
     },
     "execution_count": 42,
     "metadata": {},
     "output_type": "execute_result"
    }
   ],
   "source": [
    "sp.integrate(sol.rhs * -1j * h * sp.diff(sol.rhs, x), (x, 0, a))"
   ]
  },
  {
   "cell_type": "code",
   "execution_count": 43,
   "metadata": {},
   "outputs": [
    {
     "data": {
      "text/latex": [
       "$\\displaystyle - \\frac{\\pi^{2} \\hbar^{2} n^{2}}{a^{2}}$"
      ],
      "text/plain": [
       "-pi**2*hbar**2*n**2/a**2"
      ]
     },
     "execution_count": 43,
     "metadata": {},
     "output_type": "execute_result"
    }
   ],
   "source": [
    "sp.integrate(sol.rhs * 1 * h**2 * sp.diff(sol.rhs, x, x), (x, 0, a))"
   ]
  }
 ],
 "metadata": {
  "kernelspec": {
   "display_name": "Python 3.9.5 64-bit",
   "language": "python",
   "name": "python3"
  },
  "language_info": {
   "codemirror_mode": {
    "name": "ipython",
    "version": 3
   },
   "file_extension": ".py",
   "mimetype": "text/x-python",
   "name": "python",
   "nbconvert_exporter": "python",
   "pygments_lexer": "ipython3",
   "version": "3.9.5"
  },
  "orig_nbformat": 4,
  "vscode": {
   "interpreter": {
    "hash": "2522338964b6fe800949c1f6b1a562be3ed9e3c75fefe2789ff9555f3d585f8e"
   }
  }
 },
 "nbformat": 4,
 "nbformat_minor": 2
}
